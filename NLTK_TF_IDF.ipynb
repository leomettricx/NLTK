{
 "cells": [
  {
   "cell_type": "raw",
   "metadata": {},
   "source": [
    "Autor : Leonardo Moreira\n",
    "        leonardo.symeqx@gmail.com\n",
    "        21.994073374"
   ]
  },
  {
   "cell_type": "raw",
   "metadata": {},
   "source": [
    "tf (frequência do termo) e idf (frequência do documento inverso). Frequência de termo é a proporção de ocorrências de um termo específico para o número total de termos em um documento. A freqüência inversa do documento é o inverso da proporção de documentos que contêm essa palavra / frase."
   ]
  },
  {
   "cell_type": "code",
   "execution_count": 1,
   "metadata": {},
   "outputs": [],
   "source": [
    "import string\n",
    "from itertools import islice"
   ]
  },
  {
   "cell_type": "code",
   "execution_count": 2,
   "metadata": {},
   "outputs": [],
   "source": [
    "import pandas as pd\n",
    "import numpy as np"
   ]
  },
  {
   "cell_type": "code",
   "execution_count": 3,
   "metadata": {},
   "outputs": [],
   "source": [
    "from nltk.tokenize import RegexpTokenizer\n",
    "from nltk.corpus import stopwords"
   ]
  },
  {
   "cell_type": "code",
   "execution_count": 4,
   "metadata": {},
   "outputs": [],
   "source": [
    "from sklearn.feature_extraction.text import CountVectorizer\n",
    "from sklearn.feature_extraction.text import TfidfTransformer\n",
    "from sklearn.feature_extraction.text import TfidfVectorizer\n",
    "\n"
   ]
  },
  {
   "cell_type": "code",
   "execution_count": 5,
   "metadata": {},
   "outputs": [],
   "source": [
    "docA = \"\"\"A expressão inteligência emocional está incluída hoje no léxico de muitos, \n",
    "tanto de pessoas comuns quanto de intelectuais ou celebridades. Até mesmo ministros usam a \n",
    "expressão em seus comentários e alertas. Mas nem todo mundo se refere à mesma coisa quando usa essa expressão. \n",
    "Para alguns, a inteligência emocional é algo como um tipo de inteligência mais avançada do que a clássica, ou seja, \n",
    "do que a inteligência analítica, medida em testes que fornecem resultados em quociente numérico.\n",
    "Há também aqueles que se referem à inteligência emocional pelo lado negativo, \n",
    "como uma incapacidade de controlar as emoções: Comporta-se como se não tivesse inteligência emocional. \n",
    "Também não faltam aqueles que acreditam ser um novo tipo de inteligência recém-inventada, pois, afinal de contas, \n",
    "o conceito de inteligência não é absoluto, tal como a altura ou o peso de uma pessoa, \n",
    "pois sempre depende do critério do observador. Outros, por sua vez, \n",
    "sequer sabem a que se referem quando falam sobre esse tipo de inteligência. \n",
    "Talvez, por tudo isso, valha a pena tentar esclarecer o conceito.\"\"\""
   ]
  },
  {
   "cell_type": "code",
   "execution_count": 6,
   "metadata": {},
   "outputs": [
    {
     "data": {
      "text/plain": [
       "'A expressão inteligência emocional está incluída hoje no léxico de muitos, \\ntanto de pessoas comuns quanto de intelectuais ou celebridades. Até mesmo ministros usam a \\nexpressão em seus comentários e alertas. Mas nem todo mundo se refere à mesma coisa quando usa essa expressão. \\nPara alguns, a inteligência emocional é algo como um tipo de inteligência mais avançada do que a clássica, ou seja, \\ndo que a inteligência analítica, medida em testes que fornecem resultados em quociente numérico.\\nHá também aqueles que se referem à inteligência emocional pelo lado negativo, \\ncomo uma incapacidade de controlar as emoções: Comporta-se como se não tivesse inteligência emocional. \\nTambém não faltam aqueles que acreditam ser um novo tipo de inteligência recém-inventada, pois, afinal de contas, \\no conceito de inteligência não é absoluto, tal como a altura ou o peso de uma pessoa, \\npois sempre depende do critério do observador. Outros, por sua vez, \\nsequer sabem a que se referem quando falam sobre esse tipo de inteligência. \\nTalvez, por tudo isso, valha a pena tentar esclarecer o conceito.'"
      ]
     },
     "execution_count": 6,
     "metadata": {},
     "output_type": "execute_result"
    }
   ],
   "source": [
    "docA"
   ]
  },
  {
   "cell_type": "code",
   "execution_count": 7,
   "metadata": {},
   "outputs": [],
   "source": [
    "tokenizer = RegexpTokenizer(r'\\w+')\n",
    "bowA = tokenizer.tokenize(docA)\n"
   ]
  },
  {
   "cell_type": "code",
   "execution_count": 9,
   "metadata": {},
   "outputs": [],
   "source": [
    "stpwrds = stopwords.words('portuguese') + list(string.punctuation)"
   ]
  },
  {
   "cell_type": "code",
   "execution_count": 10,
   "metadata": {},
   "outputs": [],
   "source": [
    "#stpwrds"
   ]
  },
  {
   "cell_type": "markdown",
   "metadata": {},
   "source": [
    "#### Retirando os StopWords"
   ]
  },
  {
   "cell_type": "code",
   "execution_count": 11,
   "metadata": {},
   "outputs": [],
   "source": [
    "bowA = ([w.lower() for w in bowA if w not in stpwrds])"
   ]
  },
  {
   "cell_type": "code",
   "execution_count": 12,
   "metadata": {},
   "outputs": [],
   "source": [
    "#bowA"
   ]
  },
  {
   "cell_type": "code",
   "execution_count": 13,
   "metadata": {},
   "outputs": [
    {
     "data": {
      "text/plain": [
       "CountVectorizer(analyzer='word', binary=False, decode_error='strict',\n",
       "        dtype=<class 'numpy.int64'>, encoding='utf-8', input='content',\n",
       "        lowercase=True, max_df=0.5, max_features=None, min_df=1,\n",
       "        ngram_range=(1, 2), preprocessor=None, stop_words=None,\n",
       "        strip_accents=None, token_pattern='(?u)\\\\b\\\\w\\\\w+\\\\b',\n",
       "        tokenizer=None, vocabulary=None)"
      ]
     },
     "execution_count": 13,
     "metadata": {},
     "output_type": "execute_result"
    }
   ],
   "source": [
    "# CountVectorizer/TfidfTransformer\n",
    "cvec = CountVectorizer( min_df=1, max_df=.5, ngram_range=(1,2))\n",
    "cvec"
   ]
  },
  {
   "cell_type": "code",
   "execution_count": 14,
   "metadata": {},
   "outputs": [
    {
     "data": {
      "text/plain": [
       "[('expressão', 24),\n",
       " ('inteligência', 33),\n",
       " ('emocional', 21),\n",
       " ('incluída', 31),\n",
       " ('hoje', 28),\n",
       " ('léxico', 36),\n",
       " ('muitos', 41),\n",
       " ('tanto', 68),\n",
       " ('pessoas', 52),\n",
       " ('comuns', 15)]"
      ]
     },
     "execution_count": 14,
     "metadata": {},
     "output_type": "execute_result"
    }
   ],
   "source": [
    "cvec.fit(bowA)\n",
    "list(islice(cvec.vocabulary_.items(), 10))"
   ]
  },
  {
   "cell_type": "code",
   "execution_count": 15,
   "metadata": {},
   "outputs": [
    {
     "data": {
      "text/plain": [
       "78"
      ]
     },
     "execution_count": 15,
     "metadata": {},
     "output_type": "execute_result"
    }
   ],
   "source": [
    "len(cvec.vocabulary_)"
   ]
  },
  {
   "cell_type": "code",
   "execution_count": 16,
   "metadata": {},
   "outputs": [
    {
     "name": "stdout",
     "output_type": "stream",
     "text": [
      "Matriz esparsa : (99, 78)\n",
      "Nonzero count: 96\n",
      "Sparsity: 1.24%\n"
     ]
    }
   ],
   "source": [
    "cvec_counts = cvec.transform(bowA)\n",
    "print('Matriz esparsa :', cvec_counts.shape)\n",
    "print('Nonzero count:', cvec_counts.nnz)\n",
    "print('Sparsity: %.2f%%' % (100.0 * cvec_counts.nnz / (cvec_counts.shape[0] * cvec_counts.shape[1]))) "
   ]
  },
  {
   "cell_type": "code",
   "execution_count": 17,
   "metadata": {},
   "outputs": [
    {
     "data": {
      "text/html": [
       "<div>\n",
       "<style scoped>\n",
       "    .dataframe tbody tr th:only-of-type {\n",
       "        vertical-align: middle;\n",
       "    }\n",
       "\n",
       "    .dataframe tbody tr th {\n",
       "        vertical-align: top;\n",
       "    }\n",
       "\n",
       "    .dataframe thead th {\n",
       "        text-align: right;\n",
       "    }\n",
       "</style>\n",
       "<table border=\"1\" class=\"dataframe\">\n",
       "  <thead>\n",
       "    <tr style=\"text-align: right;\">\n",
       "      <th></th>\n",
       "      <th>Palavra</th>\n",
       "      <th>Ocorrências</th>\n",
       "    </tr>\n",
       "  </thead>\n",
       "  <tbody>\n",
       "    <tr>\n",
       "      <th>33</th>\n",
       "      <td>inteligência</td>\n",
       "      <td>9</td>\n",
       "    </tr>\n",
       "    <tr>\n",
       "      <th>21</th>\n",
       "      <td>emocional</td>\n",
       "      <td>4</td>\n",
       "    </tr>\n",
       "    <tr>\n",
       "      <th>24</th>\n",
       "      <td>expressão</td>\n",
       "      <td>3</td>\n",
       "    </tr>\n",
       "    <tr>\n",
       "      <th>71</th>\n",
       "      <td>tipo</td>\n",
       "      <td>3</td>\n",
       "    </tr>\n",
       "    <tr>\n",
       "      <th>16</th>\n",
       "      <td>conceito</td>\n",
       "      <td>2</td>\n",
       "    </tr>\n",
       "  </tbody>\n",
       "</table>\n",
       "</div>"
      ],
      "text/plain": [
       "         Palavra  Ocorrências\n",
       "33  inteligência            9\n",
       "21     emocional            4\n",
       "24     expressão            3\n",
       "71          tipo            3\n",
       "16      conceito            2"
      ]
     },
     "execution_count": 17,
     "metadata": {},
     "output_type": "execute_result"
    }
   ],
   "source": [
    "occ = np.asarray(cvec_counts.sum(axis=0)).ravel().tolist()\n",
    "counts_df = pd.DataFrame({'Palavra': cvec.get_feature_names(), 'Ocorrências': occ})\n",
    "counts_df.sort_values(by='Ocorrências', ascending=False).head(5)"
   ]
  },
  {
   "cell_type": "markdown",
   "metadata": {},
   "source": [
    "#### TF-IDF"
   ]
  },
  {
   "cell_type": "code",
   "execution_count": 18,
   "metadata": {},
   "outputs": [
    {
     "data": {
      "text/plain": [
       "<99x78 sparse matrix of type '<class 'numpy.float64'>'\n",
       "\twith 96 stored elements in Compressed Sparse Row format>"
      ]
     },
     "execution_count": 18,
     "metadata": {},
     "output_type": "execute_result"
    }
   ],
   "source": [
    "transformer = TfidfTransformer()\n",
    "transformed_weights = transformer.fit_transform(cvec_counts)\n",
    "transformed_weights"
   ]
  },
  {
   "cell_type": "code",
   "execution_count": 19,
   "metadata": {},
   "outputs": [
    {
     "data": {
      "text/html": [
       "<div>\n",
       "<style scoped>\n",
       "    .dataframe tbody tr th:only-of-type {\n",
       "        vertical-align: middle;\n",
       "    }\n",
       "\n",
       "    .dataframe tbody tr th {\n",
       "        vertical-align: top;\n",
       "    }\n",
       "\n",
       "    .dataframe thead th {\n",
       "        text-align: right;\n",
       "    }\n",
       "</style>\n",
       "<table border=\"1\" class=\"dataframe\">\n",
       "  <thead>\n",
       "    <tr style=\"text-align: right;\">\n",
       "      <th></th>\n",
       "      <th>Palavra</th>\n",
       "      <th>Frequencia</th>\n",
       "    </tr>\n",
       "  </thead>\n",
       "  <tbody>\n",
       "    <tr>\n",
       "      <th>33</th>\n",
       "      <td>inteligência</td>\n",
       "      <td>0.090909</td>\n",
       "    </tr>\n",
       "    <tr>\n",
       "      <th>21</th>\n",
       "      <td>emocional</td>\n",
       "      <td>0.040404</td>\n",
       "    </tr>\n",
       "    <tr>\n",
       "      <th>24</th>\n",
       "      <td>expressão</td>\n",
       "      <td>0.030303</td>\n",
       "    </tr>\n",
       "    <tr>\n",
       "      <th>71</th>\n",
       "      <td>tipo</td>\n",
       "      <td>0.030303</td>\n",
       "    </tr>\n",
       "    <tr>\n",
       "      <th>16</th>\n",
       "      <td>conceito</td>\n",
       "      <td>0.020202</td>\n",
       "    </tr>\n",
       "    <tr>\n",
       "      <th>53</th>\n",
       "      <td>pois</td>\n",
       "      <td>0.020202</td>\n",
       "    </tr>\n",
       "    <tr>\n",
       "      <th>58</th>\n",
       "      <td>referem</td>\n",
       "      <td>0.020202</td>\n",
       "    </tr>\n",
       "    <tr>\n",
       "      <th>52</th>\n",
       "      <td>pessoas</td>\n",
       "      <td>0.010101</td>\n",
       "    </tr>\n",
       "    <tr>\n",
       "      <th>57</th>\n",
       "      <td>refere</td>\n",
       "      <td>0.010101</td>\n",
       "    </tr>\n",
       "    <tr>\n",
       "      <th>56</th>\n",
       "      <td>recém</td>\n",
       "      <td>0.010101</td>\n",
       "    </tr>\n",
       "  </tbody>\n",
       "</table>\n",
       "</div>"
      ],
      "text/plain": [
       "         Palavra  Frequencia\n",
       "33  inteligência    0.090909\n",
       "21     emocional    0.040404\n",
       "24     expressão    0.030303\n",
       "71          tipo    0.030303\n",
       "16      conceito    0.020202\n",
       "53          pois    0.020202\n",
       "58       referem    0.020202\n",
       "52       pessoas    0.010101\n",
       "57        refere    0.010101\n",
       "56         recém    0.010101"
      ]
     },
     "execution_count": 19,
     "metadata": {},
     "output_type": "execute_result"
    }
   ],
   "source": [
    "tvec = TfidfVectorizer(min_df=.0025, max_df=.1, ngram_range=(1,2))\n",
    "tvec_weights = tvec.fit_transform(bowA)\n",
    "weights = np.asarray(tvec_weights.mean(axis=0)).ravel().tolist()\n",
    "weights_df = pd.DataFrame({'Palavra': tvec.get_feature_names(), 'Frequencia': weights})\n",
    "weights_df.sort_values(by='Frequencia', ascending=False).head(10)"
   ]
  },
  {
   "cell_type": "code",
   "execution_count": null,
   "metadata": {},
   "outputs": [],
   "source": []
  }
 ],
 "metadata": {
  "kernelspec": {
   "display_name": "Python 3",
   "language": "python",
   "name": "python3"
  },
  "language_info": {
   "codemirror_mode": {
    "name": "ipython",
    "version": 3
   },
   "file_extension": ".py",
   "mimetype": "text/x-python",
   "name": "python",
   "nbconvert_exporter": "python",
   "pygments_lexer": "ipython3",
   "version": "3.6.5"
  }
 },
 "nbformat": 4,
 "nbformat_minor": 2
}
